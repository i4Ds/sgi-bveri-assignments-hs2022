{
 "cells": [
  {
   "cell_type": "code",
   "execution_count": null,
   "id": "023f259e-6eb2-44ca-97eb-583122c70572",
   "metadata": {
    "deletable": false,
    "editable": false,
    "nbgrader": {
     "cell_type": "code",
     "checksum": "6330a9338e545df568c24b517705ac69",
     "grade": false,
     "grade_id": "load",
     "locked": true,
     "schema_version": 3,
     "solution": false,
     "task": false
    },
    "tags": []
   },
   "outputs": [],
   "source": [
    "%load_ext autoreload\n",
    "%autoreload 2\n",
    "%matplotlib inline\n",
    "\n",
    "from IPython.core.interactiveshell import InteractiveShell\n",
    "InteractiveShell.ast_node_interactivity = \"all\""
   ]
  },
  {
   "cell_type": "markdown",
   "id": "0e420152",
   "metadata": {
    "deletable": false,
    "editable": false,
    "nbgrader": {
     "cell_type": "markdown",
     "checksum": "d163dae5a4cdc08bc85abd6a9ee1d856",
     "grade": false,
     "grade_id": "header",
     "locked": true,
     "schema_version": 3,
     "solution": false,
     "task": false
    },
    "tags": []
   },
   "source": [
    "# Pytorch Intro\n",
    "\n",
    "Diese Übung basiert auf dem offiziellen PyTorch Tutorial: https://pytorch.org/tutorials/beginner/basics/intro.html\n",
    "\n",
    "\n",
    "## Lernziele\n",
    "\n",
    "- Tensoren: Erstellen, Operationen, Eigenschaften\n",
    "- Daten: Erstelle, Iterieren, Batches\n",
    "- Modelle: Definieren, Optimieren, Speichern & Laden"
   ]
  },
  {
   "cell_type": "code",
   "execution_count": null,
   "id": "1f2c3b80",
   "metadata": {
    "deletable": false,
    "editable": false,
    "nbgrader": {
     "cell_type": "code",
     "checksum": "0618ad77ae00f0362e755cbfd4b2a72f",
     "grade": false,
     "grade_id": "imports",
     "locked": true,
     "schema_version": 3,
     "solution": false,
     "task": false
    },
    "tags": []
   },
   "outputs": [],
   "source": [
    "import os\n",
    "from pathlib import Path\n",
    "\n",
    "from matplotlib import pyplot as plt\n",
    "import numpy as np\n",
    "import pandas as pd\n",
    "from PIL import Image\n",
    "import torch\n",
    "from tqdm.notebook import tqdm\n",
    "\n",
    "DATA_PATH = Path('./data')"
   ]
  },
  {
   "cell_type": "markdown",
   "id": "f8206520",
   "metadata": {
    "deletable": false,
    "editable": false,
    "nbgrader": {
     "cell_type": "markdown",
     "checksum": "0829f74d5a1d36f84c674d55fbdd8192",
     "grade": false,
     "grade_id": "tensors",
     "locked": true,
     "schema_version": 3,
     "solution": false,
     "task": false
    },
    "tags": []
   },
   "source": [
    "## Tensoren\n",
    "\n",
    "Sie können die folgenden Aufgaben mit Hilfe dieses Tutorials lösen: https://pytorch.org/tutorials/beginner/basics/tensorqs_tutorial.html"
   ]
  },
  {
   "cell_type": "markdown",
   "id": "a9fe0909",
   "metadata": {
    "deletable": false,
    "editable": false,
    "nbgrader": {
     "cell_type": "markdown",
     "checksum": "c381f60c982dbbdf7aa75ddf3ebe5183",
     "grade": false,
     "grade_id": "tensors1",
     "locked": true,
     "schema_version": 3,
     "solution": false,
     "task": false
    },
    "tags": []
   },
   "source": [
    "Lesen Sie das Bild `${DATA_PATH}/cat_small.jpg` ein mit PIL.Image. Stellen Sie das Bild dar."
   ]
  },
  {
   "cell_type": "code",
   "execution_count": null,
   "id": "1404aa06-4539-4da6-8498-3f4c1df12857",
   "metadata": {
    "deletable": false,
    "nbgrader": {
     "cell_type": "code",
     "checksum": "60faf385e9ab715c0482ee8fd2802cb9",
     "grade": true,
     "grade_id": "tensors-1-a",
     "locked": false,
     "points": 0,
     "schema_version": 3,
     "solution": true,
     "task": false
    },
    "tags": []
   },
   "outputs": [],
   "source": [
    "# YOUR CODE HERE\n",
    "raise NotImplementedError()"
   ]
  },
  {
   "cell_type": "markdown",
   "id": "521b6be9",
   "metadata": {
    "deletable": false,
    "editable": false,
    "nbgrader": {
     "cell_type": "markdown",
     "checksum": "9bc66545c86ae9a06ba96bc800a06980",
     "grade": false,
     "grade_id": "tensors-q2",
     "locked": true,
     "schema_version": 3,
     "solution": false,
     "task": false
    },
    "tags": []
   },
   "source": [
    "Erstellen Sie aus dem Bild einen `torch.tensor`. Zeigen Sie dessen `shape` (Dimensionalität)."
   ]
  },
  {
   "cell_type": "code",
   "execution_count": null,
   "id": "c8ccd7ab",
   "metadata": {
    "deletable": false,
    "nbgrader": {
     "cell_type": "code",
     "checksum": "daed408c4d4938b2bf77bcd41cc1c440",
     "grade": true,
     "grade_id": "tensors-a2",
     "locked": false,
     "points": 0,
     "schema_version": 3,
     "solution": true,
     "task": false
    },
    "tags": []
   },
   "outputs": [],
   "source": [
    "# YOUR CODE HERE\n",
    "raise NotImplementedError()"
   ]
  },
  {
   "cell_type": "markdown",
   "id": "d1263a34",
   "metadata": {
    "deletable": false,
    "editable": false,
    "nbgrader": {
     "cell_type": "markdown",
     "checksum": "2bbc3b049751ad3ddf7fc0f044d061ee",
     "grade": false,
     "grade_id": "tensors-q3",
     "locked": true,
     "schema_version": 3,
     "solution": false,
     "task": false
    },
    "tags": []
   },
   "source": [
    "Berechnen Sie den Mittelwert über die Farbkanäle."
   ]
  },
  {
   "cell_type": "code",
   "execution_count": null,
   "id": "eed13e60",
   "metadata": {
    "deletable": false,
    "nbgrader": {
     "cell_type": "code",
     "checksum": "18c88a7220a0aa5304e3c54cdbd02dd4",
     "grade": true,
     "grade_id": "tensors-a3",
     "locked": false,
     "points": 0,
     "schema_version": 3,
     "solution": true,
     "task": false
    },
    "tags": []
   },
   "outputs": [],
   "source": [
    "# YOUR CODE HERE\n",
    "raise NotImplementedError()"
   ]
  },
  {
   "cell_type": "markdown",
   "id": "6b0d5996",
   "metadata": {
    "deletable": false,
    "editable": false,
    "nbgrader": {
     "cell_type": "markdown",
     "checksum": "95fdf318837960da20314fe584e0cf98",
     "grade": false,
     "grade_id": "tensors-q4",
     "locked": true,
     "schema_version": 3,
     "solution": false,
     "task": false
    },
    "tags": []
   },
   "source": [
    "Ziehen Sie die Mittelwerte der Farbkanäle den entsprechenden Farbkanälen ab (mean centering). Berechnen Sie dann wieder den Mittlwert um zu zeigen, dass es funktioniert hat."
   ]
  },
  {
   "cell_type": "code",
   "execution_count": null,
   "id": "daef71ab",
   "metadata": {
    "deletable": false,
    "nbgrader": {
     "cell_type": "code",
     "checksum": "399752f18b2d1e160294b39a0fda709f",
     "grade": true,
     "grade_id": "tensors-a4",
     "locked": false,
     "points": 0,
     "schema_version": 3,
     "solution": true,
     "task": false
    },
    "tags": []
   },
   "outputs": [],
   "source": [
    "# YOUR CODE HERE\n",
    "raise NotImplementedError()"
   ]
  },
  {
   "cell_type": "markdown",
   "id": "db29f5e0",
   "metadata": {
    "deletable": false,
    "editable": false,
    "nbgrader": {
     "cell_type": "markdown",
     "checksum": "f14a9d3937d83e6c43d124a5295c21cc",
     "grade": false,
     "grade_id": "daten",
     "locked": true,
     "schema_version": 3,
     "solution": false,
     "task": false
    },
    "tags": []
   },
   "source": [
    "## Daten\n",
    "\n",
    "Das Definieren von Datensätzen mit denen ein Modell trainiert werden kann ist ein wichtiger Schritt beim Modellieren von Daten. Im Folgenden werden Sie PyTorch-Klassen verwenden um solche Datensätze zu erstellen.\n",
    "\n",
    "Die folgenden Aufgaben können Sie mit folgender Hilfe lösen: https://pytorch.org/tutorials/beginner/basics/data_tutorial.html\n",
    "\n",
    "Insbesondere sollten Sie die Klassen [`torch.utils.data.Dataset`](https://pytorch.org/docs/stable/data.html#torch.utils.data.Dataset) und [`torch.utils.data.DataLoader`](https://pytorch.org/docs/stable/data.html#torch.utils.data.DataLoader) kennen, verstehen und benutzen können.\n",
    "\n",
    "Lösen Sie die folgenden Aufgaben:"
   ]
  },
  {
   "cell_type": "code",
   "execution_count": null,
   "id": "c50ad057",
   "metadata": {
    "deletable": false,
    "editable": false,
    "nbgrader": {
     "cell_type": "code",
     "checksum": "2700408a53b70fa15f230dad0b3627a0",
     "grade": false,
     "grade_id": "daten-setup",
     "locked": true,
     "schema_version": 3,
     "solution": false,
     "task": false
    },
    "tags": []
   },
   "outputs": [],
   "source": [
    "from torch.utils.data import Dataset\n",
    "from torchvision import datasets\n",
    "from torchvision.transforms import ToTensor"
   ]
  },
  {
   "cell_type": "markdown",
   "id": "8b7ffe43",
   "metadata": {
    "deletable": false,
    "editable": false,
    "nbgrader": {
     "cell_type": "markdown",
     "checksum": "661dfe9f4fe995d8edd6fd7968cc698b",
     "grade": false,
     "grade_id": "daten-q1",
     "locked": true,
     "schema_version": 3,
     "solution": false,
     "task": false
    },
    "tags": []
   },
   "source": [
    "Erstellen Sie ein `torch.utils.data.Dataset` mit Hilfe von `torchvision.datasets.FashionMNIST`."
   ]
  },
  {
   "cell_type": "code",
   "execution_count": null,
   "id": "579d0b69",
   "metadata": {
    "deletable": false,
    "nbgrader": {
     "cell_type": "code",
     "checksum": "8d6c76f70b4271cc71b84c8fe59656e1",
     "grade": true,
     "grade_id": "daten-a1",
     "locked": false,
     "points": 0,
     "schema_version": 3,
     "solution": true,
     "task": false
    },
    "tags": []
   },
   "outputs": [],
   "source": [
    "# YOUR CODE HERE\n",
    "raise NotImplementedError()"
   ]
  },
  {
   "cell_type": "markdown",
   "id": "c11d77fc",
   "metadata": {
    "deletable": false,
    "editable": false,
    "nbgrader": {
     "cell_type": "markdown",
     "checksum": "94ccaf72981b6dbbfe589722c8c03c0d",
     "grade": false,
     "grade_id": "daten-q2",
     "locked": true,
     "schema_version": 3,
     "solution": false,
     "task": false
    },
    "tags": []
   },
   "source": [
    "Visualisieren Sie die ersten 9 samples. Plotten Sie das Label jeden Samples. Schauen Sie sich den [Source Code](https://pytorch.org/vision/stable/_modules/torchvision/datasets/mnist.html#FashionMNIST) an um die Labels von Int auf Text zu mappen. Verwenden Sie keine manuell definierte Mapping-Tabelle wie im PyTorch Tutorial."
   ]
  },
  {
   "cell_type": "code",
   "execution_count": null,
   "id": "e134dafe",
   "metadata": {
    "deletable": false,
    "nbgrader": {
     "cell_type": "code",
     "checksum": "f6f99db802f7e58d7367c19ed1a525d4",
     "grade": true,
     "grade_id": "daten-a2",
     "locked": false,
     "points": 0,
     "schema_version": 3,
     "solution": true,
     "task": false
    },
    "tags": []
   },
   "outputs": [],
   "source": [
    "# YOUR CODE HERE\n",
    "raise NotImplementedError()"
   ]
  },
  {
   "cell_type": "markdown",
   "id": "f3a673e3",
   "metadata": {
    "deletable": false,
    "editable": false,
    "nbgrader": {
     "cell_type": "markdown",
     "checksum": "9abeb206929e231f40f824ca47489498",
     "grade": false,
     "grade_id": "daten-custom",
     "locked": true,
     "schema_version": 3,
     "solution": false,
     "task": false
    },
    "tags": []
   },
   "source": [
    "### Custom Datasets\n",
    "\n",
    "Generieren Sie einen Datensatz von Bildern von Katzen und Hunden. Die Bilder sind in `${DATA_ROOT}/cats_vs_dogs.zip` abgelegt. Es sollen sowohl die Bilder, wie auch die Labels ausgegeben werden.\n",
    "\n",
    "Als erstes extrahieren wir die Bilder, z.B. mit der folgenden Zelle."
   ]
  },
  {
   "cell_type": "code",
   "execution_count": null,
   "id": "e8b4bc8f-bfd9-413a-be44-64728f2230a8",
   "metadata": {
    "deletable": false,
    "editable": false,
    "nbgrader": {
     "cell_type": "code",
     "checksum": "34c0bfdfe042957538bf39f6e39aa9f8",
     "grade": false,
     "grade_id": "daten-custom-prep",
     "locked": true,
     "schema_version": 3,
     "solution": false,
     "task": false
    },
    "tags": []
   },
   "outputs": [],
   "source": [
    "%%bash\n",
    "unzip ./data/cats_vs_dogs.zip -d ./data"
   ]
  },
  {
   "cell_type": "markdown",
   "id": "693c0293-00f9-4d5c-8ca6-6f470a72a084",
   "metadata": {
    "deletable": false,
    "editable": false,
    "nbgrader": {
     "cell_type": "markdown",
     "checksum": "b2afff0083a6c286079ee55d3fc1cbc4",
     "grade": false,
     "grade_id": "data-custom-q1",
     "locked": true,
     "schema_version": 3,
     "solution": false,
     "task": false
    },
    "tags": []
   },
   "source": [
    "Erstellen Sie eine Klasse `CatsAndDogs` die von [`torch.utils.data.Dataset`](https://pytorch.org/docs/stable/data.html#torch.utils.data.Dataset) erbt. Implementieren Sie die Methoden `__len__` und `__getitem__`.  `__getitem__` soll ein Tuple zurückgeben (np.array, np,array) mit Bild und Label. Erstellen Sie danach ein Objekt der Klasse."
   ]
  },
  {
   "cell_type": "code",
   "execution_count": null,
   "id": "0ec64c92",
   "metadata": {
    "deletable": false,
    "nbgrader": {
     "cell_type": "code",
     "checksum": "d4f5789ebed358485947d60a1cfd0f21",
     "grade": true,
     "grade_id": "data-custom-a1",
     "locked": false,
     "points": 0,
     "schema_version": 3,
     "solution": true,
     "task": false
    },
    "tags": []
   },
   "outputs": [],
   "source": [
    "class CatsAndDogs(Dataset):\n",
    "    def __init__(self, image_dir):\n",
    "        # YOUR CODE HERE\n",
    "        raise NotImplementedError()\n",
    "\n",
    "    def __len__(self):\n",
    "        # YOUR CODE HERE\n",
    "        raise NotImplementedError()\n",
    "\n",
    "    def __getitem__(self, idx):\n",
    "        # YOUR CODE HERE\n",
    "        raise NotImplementedError()\n",
    "\n",
    "ds = CatsAndDogs(image_dir=DATA_PATH.joinpath('cats_vs_dogs'))"
   ]
  },
  {
   "cell_type": "markdown",
   "id": "216cdfe2-c7ca-4ae7-b9ff-25f0a40211cb",
   "metadata": {
    "deletable": false,
    "editable": false,
    "nbgrader": {
     "cell_type": "markdown",
     "checksum": "36417c935768d6ef21208fdc5c3fc0b0",
     "grade": false,
     "grade_id": "data-custom-q2",
     "locked": true,
     "schema_version": 3,
     "solution": false,
     "task": false
    },
    "tags": []
   },
   "source": [
    "Instanzieren Sie nun ein Objekt der Klasse `torch.utils.data.Dataloader` mit dem gerade erstellten Datensatz. Setzen Sie `batch_size=1` und plotten Sie das erste Bild, welches vom DataLoader zurückgegeben wird.\n",
    "\n",
    "Erhöhen Sie die Batch-Size und probieren Sie das letzte Bild im Batch zu plotten. Was passiert? Warum?"
   ]
  },
  {
   "cell_type": "code",
   "execution_count": null,
   "id": "2977ae88",
   "metadata": {
    "deletable": false,
    "nbgrader": {
     "cell_type": "code",
     "checksum": "9416379289602b000ccae517d21eec5f",
     "grade": true,
     "grade_id": "data-custom-a2",
     "locked": false,
     "points": 0,
     "schema_version": 3,
     "solution": true,
     "task": false
    },
    "tags": []
   },
   "outputs": [],
   "source": [
    "from torch.utils.data import DataLoader\n",
    "\n",
    "# YOUR CODE HERE\n",
    "raise NotImplementedError()"
   ]
  },
  {
   "cell_type": "markdown",
   "id": "cf14d874",
   "metadata": {
    "deletable": false,
    "editable": false,
    "nbgrader": {
     "cell_type": "markdown",
     "checksum": "d1070faac41dc5b1ff5dee08a4d79567",
     "grade": false,
     "grade_id": "transf",
     "locked": true,
     "schema_version": 3,
     "solution": false,
     "task": false
    },
    "tags": []
   },
   "source": [
    "## Transformationen\n",
    "\n",
    "Schauen Sie sich [_transforms_](https://pytorch.org/vision/main/transforms.html) an. Erweitern Sie anschliessend die Klasse `CatsAndDogs` so dass _transforms_ angewendet werden können. Diese sind wichtig für `DataAugmentation` und um Inputs zu `normalisieren`. Dadurch werden Modelle typischerweise schneller trainiert und generalisieren besser."
   ]
  },
  {
   "cell_type": "markdown",
   "id": "716dcae1",
   "metadata": {
    "deletable": false,
    "editable": false,
    "nbgrader": {
     "cell_type": "markdown",
     "checksum": "585e06099889412dba1e2e5c3c8bdeeb",
     "grade": false,
     "grade_id": "transf-q1",
     "locked": true,
     "schema_version": 3,
     "solution": false,
     "task": false
    },
    "tags": []
   },
   "source": [
    "Erstellen Sie eine `torchvision.transforms.Compose` Pipeline mit folgenden Transformationen:\n",
    "\n",
    "- Konvertieren Sie das Bild in einen Tensor, in den Bereich [0, 1]\n",
    "- Rotieren Sie die Bilder zufällig bis zu 45 Grad\n",
    "- Flippen Sie das Bild horizontal, zufällig mit einer Wahrscheinlichkeit von 50%\n",
    "- Normalisieren Sie die Bilder mit folgenden $\\mu$ und $\\sigma$ - Vektoren: (0.4914, 0.4822, 0.4465), (0.247, 0.243, 0.261)\n",
    "- Resizen Sie die Bilder auf (128, 128)\n"
   ]
  },
  {
   "cell_type": "code",
   "execution_count": null,
   "id": "efa7c914",
   "metadata": {
    "deletable": false,
    "nbgrader": {
     "cell_type": "code",
     "checksum": "0358fac9adad2fb880644dcdfc29f9e7",
     "grade": true,
     "grade_id": "transf-a1",
     "locked": false,
     "points": 0,
     "schema_version": 3,
     "solution": true,
     "task": false
    },
    "tags": []
   },
   "outputs": [],
   "source": [
    "from torchvision import transforms\n",
    "# YOUR CODE HERE\n",
    "raise NotImplementedError()"
   ]
  },
  {
   "cell_type": "markdown",
   "id": "2a6eadbe-efe2-4204-b348-e5b810186f1a",
   "metadata": {
    "deletable": false,
    "editable": false,
    "nbgrader": {
     "cell_type": "markdown",
     "checksum": "d7bb49202c6c1b5a9b6394c9e2a921f6",
     "grade": false,
     "grade_id": "transf-q2",
     "locked": true,
     "schema_version": 3,
     "solution": false,
     "task": false
    },
    "tags": []
   },
   "source": [
    "Erweitern Sie die Klasse `CatsAndDogs`, sodass Sie transformationen anwenden können. Erstellen Sie danach ein `Dataset` mit den Transformationen und plotten Sie 9 Bilder."
   ]
  },
  {
   "cell_type": "code",
   "execution_count": null,
   "id": "2ae49b85-7308-4763-a983-91479162b220",
   "metadata": {
    "deletable": false,
    "nbgrader": {
     "cell_type": "code",
     "checksum": "7aa4aa28f9c6707a1dd98226252df771",
     "grade": true,
     "grade_id": "transf-a2",
     "locked": false,
     "points": 0,
     "schema_version": 3,
     "solution": true,
     "task": false
    },
    "tags": []
   },
   "outputs": [],
   "source": [
    "class CatsAndDogs(Dataset):\n",
    "    def __init__(self, image_dir, transform=None, target_transform=None):\n",
    "        # YOUR CODE HERE\n",
    "        raise NotImplementedError()\n",
    "\n",
    "    def __len__(self):\n",
    "        # YOUR CODE HERE\n",
    "        raise NotImplementedError()\n",
    "\n",
    "    def __getitem__(self, idx):\n",
    "        # YOUR CODE HERE\n",
    "        raise NotImplementedError()\n",
    "\n",
    "ds = CatsAndDogs(image_dir=DATA_PATH.joinpath('cats_vs_dogs'), transform=composed_transforms)\n",
    "\n",
    "# YOUR CODE HERE\n",
    "raise NotImplementedError()"
   ]
  },
  {
   "cell_type": "markdown",
   "id": "4b54829a",
   "metadata": {
    "deletable": false,
    "editable": false,
    "nbgrader": {
     "cell_type": "markdown",
     "checksum": "8e806e739f5cadffc583f7694a8ffc9d",
     "grade": false,
     "grade_id": "mlp",
     "locked": true,
     "schema_version": 3,
     "solution": false,
     "task": false
    },
    "tags": []
   },
   "source": [
    "## Implementing a Multi-Layer Perceptron\n",
    "\n",
    "In der folgenden Aufgabe implementieren Sie ein Multi-Layer Perceptron. Danach versuchen Sie den FashionMNIST Datensatz damit zu modellieren."
   ]
  },
  {
   "cell_type": "markdown",
   "id": "46d651b4",
   "metadata": {
    "deletable": false,
    "editable": false,
    "nbgrader": {
     "cell_type": "markdown",
     "checksum": "d04452c1192ca8e3689f037ca9261e0d",
     "grade": false,
     "grade_id": "mlp-q1",
     "locked": true,
     "schema_version": 3,
     "solution": false,
     "task": false
    },
    "tags": []
   },
   "source": [
    "Definieren Sie eine Klasse, die von `torch.nn.Module` erbt und definieren Sie Ihr Netzwerk. Erstellen Sie einen Hidden-Layer mit 128 Nodes und Sigmoid Aktivierungs-Funktion. Verwenden Sie eine `Softmax-Aktivierung` für den Output-Layer. Instanzieren Sie das Netzwerk und printen Sie das Objekt."
   ]
  },
  {
   "cell_type": "code",
   "execution_count": null,
   "id": "18297548",
   "metadata": {
    "deletable": false,
    "nbgrader": {
     "cell_type": "code",
     "checksum": "6ad199e91439329ddc92a0031475e88b",
     "grade": true,
     "grade_id": "mlp-a1",
     "locked": false,
     "points": 0,
     "schema_version": 3,
     "solution": true,
     "task": false
    },
    "tags": []
   },
   "outputs": [],
   "source": [
    "import torch\n",
    "import torch.nn as nn\n",
    "import torch.nn.functional as F\n",
    "\n",
    "# YOUR CODE HERE\n",
    "raise NotImplementedError()"
   ]
  },
  {
   "cell_type": "markdown",
   "id": "959bc4b3",
   "metadata": {
    "deletable": false,
    "editable": false,
    "nbgrader": {
     "cell_type": "markdown",
     "checksum": "7cd1dd971e935f34be3d8e2a25651e2e",
     "grade": false,
     "grade_id": "mlp-q2",
     "locked": true,
     "schema_version": 3,
     "solution": false,
     "task": false
    },
    "tags": []
   },
   "source": [
    "Erstellen Sie einen FashionMNIST Datensatz [`datasets.FashionMNIST`](https://pytorch.org/vision/stable/generated/torchvision.datasets.FashionMNIST.html) und initialisieren Sie einen DataLoader. \n",
    "\n",
    "Führen Sie danach einen ersten Forward-Pass durch indem Sie einen Batch mit Ihrem MLP prozessieren. \n",
    "\n",
    "Verifizieren Sie, dass die Summer über die Samples jeweils 1 ergibt (d.h. dass die Softmax-Transformation funktioniert hat wie erwartet)."
   ]
  },
  {
   "cell_type": "code",
   "execution_count": null,
   "id": "295bb53d",
   "metadata": {
    "deletable": false,
    "nbgrader": {
     "cell_type": "code",
     "checksum": "c5f9ca865c14a7c5cd1c38a5d73a227e",
     "grade": true,
     "grade_id": "mlp-a2",
     "locked": false,
     "points": 0,
     "schema_version": 3,
     "solution": true,
     "task": false
    },
    "tags": []
   },
   "outputs": [],
   "source": [
    "# YOUR CODE HERE\n",
    "raise NotImplementedError()"
   ]
  },
  {
   "cell_type": "markdown",
   "id": "c90f9525",
   "metadata": {
    "deletable": false,
    "editable": false,
    "nbgrader": {
     "cell_type": "markdown",
     "checksum": "28a8175f6886daf4b0692084cf44afc2",
     "grade": false,
     "grade_id": "opt",
     "locked": true,
     "schema_version": 3,
     "solution": false,
     "task": false
    },
    "tags": []
   },
   "source": [
    "## Optimierung / Modell Training\n",
    "\n",
    "Dieser Teil beruht auf: https://pytorch.org/tutorials/beginner/basics/autogradqs_tutorial.html und https://pytorch.org/tutorials/beginner/basics/optimization_tutorial.html\n",
    "\n",
    "Sie werden nun die Parameter vom MLP optimieren / trainieren."
   ]
  },
  {
   "cell_type": "markdown",
   "id": "d392a17d",
   "metadata": {
    "deletable": false,
    "editable": false,
    "nbgrader": {
     "cell_type": "markdown",
     "checksum": "cb3d35f7ffa737e79661d515d1726183",
     "grade": false,
     "grade_id": "opt-q1",
     "locked": true,
     "schema_version": 3,
     "solution": false,
     "task": false
    },
    "tags": []
   },
   "source": [
    "Instanzieren Sie eine geeignete [Loss-Funktion](https://pytorch.org/docs/stable/nn.html#loss-functions).\n",
    "\n",
    "Instanzieren Sie danach einen Stochastic Gradient Descent [Optimizer](https://pytorch.org/docs/stable/optim.html#algorithms). Setzten Sie passende Hyper-Parameter falls nötig (z.B. die `learning_rate`)."
   ]
  },
  {
   "cell_type": "code",
   "execution_count": null,
   "id": "1620cc4b",
   "metadata": {
    "deletable": false,
    "nbgrader": {
     "cell_type": "code",
     "checksum": "c3853ab7e1c8b9b0c752e025817e13a7",
     "grade": true,
     "grade_id": "opt-a1",
     "locked": false,
     "points": 0,
     "schema_version": 3,
     "solution": true,
     "task": false
    },
    "tags": []
   },
   "outputs": [],
   "source": [
    "# YOUR CODE HERE\n",
    "raise NotImplementedError()"
   ]
  },
  {
   "cell_type": "markdown",
   "id": "72fba758",
   "metadata": {
    "deletable": false,
    "editable": false,
    "nbgrader": {
     "cell_type": "markdown",
     "checksum": "01b3e9a2357ca5a1f82d1dc4f7f649a5",
     "grade": false,
     "grade_id": "opt-q2",
     "locked": true,
     "schema_version": 3,
     "solution": false,
     "task": false
    },
    "tags": []
   },
   "source": [
    "Erstellen Sie einen Loop der über die Batches vom dataloader iteriert. Innerhalb vom Loop soll folgendes gemacht werden:\n",
    "\n",
    "- Forward Pass\n",
    "- Loss berechnen\n",
    "- Backpropagation\n",
    "- Parameter-Updates\n",
    "- Print von Loss und Accuracy (z.B. mit tqdm package für progress-bars)\n",
    "\n",
    "Erstellen Sie eine Funktion die das Modell für eine Epoche trainiert (`train_one_epoch()`).\n",
    "\n",
    "Trainieren Sie danach das Modell für 1 Epoche."
   ]
  },
  {
   "cell_type": "code",
   "execution_count": null,
   "id": "fb549406",
   "metadata": {
    "deletable": false,
    "nbgrader": {
     "cell_type": "code",
     "checksum": "ac41eb548aaeeb1280b517950fd919c2",
     "grade": true,
     "grade_id": "opt-a2",
     "locked": false,
     "points": 0,
     "schema_version": 3,
     "solution": true,
     "task": false
    },
    "tags": []
   },
   "outputs": [],
   "source": [
    "def train_one_epoch(dataloader, net, optimizer, loss_fn):\n",
    "    # YOUR CODE HERE\n",
    "    raise NotImplementedError()\n",
    "\n",
    "train_one_epoch(dataloader, net, optimizer, loss_fn)"
   ]
  },
  {
   "cell_type": "markdown",
   "id": "81ea5127",
   "metadata": {
    "deletable": false,
    "editable": false,
    "nbgrader": {
     "cell_type": "markdown",
     "checksum": "3a2434b38100f0a3b762cc014acc9b65",
     "grade": false,
     "grade_id": "opt-q3",
     "locked": true,
     "schema_version": 3,
     "solution": false,
     "task": false
    },
    "tags": []
   },
   "source": [
    "Implementieren Sie einen Loop über mehrere Epochen und trainieren Sie das Modell für 3 Epochen."
   ]
  },
  {
   "cell_type": "code",
   "execution_count": null,
   "id": "479087d3",
   "metadata": {
    "deletable": false,
    "nbgrader": {
     "cell_type": "code",
     "checksum": "8abde4f85a96be3234b47ece60c15656",
     "grade": true,
     "grade_id": "opt-a3",
     "locked": false,
     "points": 0,
     "schema_version": 3,
     "solution": true,
     "task": false
    },
    "tags": []
   },
   "outputs": [],
   "source": [
    "# YOUR CODE HERE\n",
    "raise NotImplementedError()"
   ]
  },
  {
   "cell_type": "markdown",
   "id": "7ebb9328",
   "metadata": {
    "deletable": false,
    "editable": false,
    "nbgrader": {
     "cell_type": "markdown",
     "checksum": "dda08c06ed5ff4ee8754d8091fee86bd",
     "grade": false,
     "grade_id": "save",
     "locked": true,
     "schema_version": 3,
     "solution": false,
     "task": false
    },
    "tags": []
   },
   "source": [
    "## Model Save / Load\n",
    "\n",
    "Dieser Teil beruht auf: https://pytorch.org/tutorials/beginner/basics/saveloadrun_tutorial.html\n",
    "\n",
    "Hier noch weitere Infos zum `state_dict`: https://pytorch.org/tutorials/recipes/recipes/what_is_state_dict.html"
   ]
  },
  {
   "cell_type": "markdown",
   "id": "93255c09",
   "metadata": {
    "deletable": false,
    "editable": false,
    "nbgrader": {
     "cell_type": "markdown",
     "checksum": "e3edfe052cbdd1513049eefe20020907",
     "grade": false,
     "grade_id": "save-q1",
     "locked": true,
     "schema_version": 3,
     "solution": false,
     "task": false
    },
    "tags": []
   },
   "source": [
    "Speichern Sie ihr trainiertes Modell und den Optimizer."
   ]
  },
  {
   "cell_type": "code",
   "execution_count": null,
   "id": "6e9460a2",
   "metadata": {
    "deletable": false,
    "nbgrader": {
     "cell_type": "code",
     "checksum": "45f507be3e666bb97955a0481c32b3a9",
     "grade": true,
     "grade_id": "save-a1",
     "locked": false,
     "points": 0,
     "schema_version": 3,
     "solution": true,
     "task": false
    },
    "tags": []
   },
   "outputs": [],
   "source": [
    "# YOUR CODE HERE\n",
    "raise NotImplementedError()"
   ]
  },
  {
   "cell_type": "markdown",
   "id": "4d795fe9",
   "metadata": {
    "deletable": false,
    "editable": false,
    "nbgrader": {
     "cell_type": "markdown",
     "checksum": "34024f314d897ff24a2f82b902fc9da0",
     "grade": false,
     "grade_id": "save-q2",
     "locked": true,
     "schema_version": 3,
     "solution": false,
     "task": false
    },
    "tags": []
   },
   "source": [
    "Löschen Sie nun Modell und Optimizer Objekt. Danach erstellen Sie die Objekte wieder und laden die Parameter.\n",
    "\n",
    "\n",
    "Trainieren Sie das Modell danach für eine weitere Epoche. Das Modell sollte dort weiterlernen wo es vorhin aufgehört hat."
   ]
  },
  {
   "cell_type": "code",
   "execution_count": null,
   "id": "1f066fd2-0d9d-4502-8357-649a4f4f33e1",
   "metadata": {
    "deletable": false,
    "nbgrader": {
     "cell_type": "code",
     "checksum": "1f417944a4c38e1f4f872d8a57e4ce92",
     "grade": true,
     "grade_id": "save-a2",
     "locked": false,
     "points": 0,
     "schema_version": 3,
     "solution": true,
     "task": false
    },
    "tags": []
   },
   "outputs": [],
   "source": [
    "del net; del optimizer\n",
    "# YOUR CODE HERE\n",
    "raise NotImplementedError()\n",
    "train_one_epoch(dataloader, net, optimizer, loss_fn)"
   ]
  },
  {
   "cell_type": "markdown",
   "id": "83b08d60",
   "metadata": {
    "deletable": false,
    "editable": false,
    "nbgrader": {
     "cell_type": "markdown",
     "checksum": "fc501c9f51eeb9cddb24764c297ea6e4",
     "grade": false,
     "grade_id": "misc",
     "locked": true,
     "schema_version": 3,
     "solution": false,
     "task": false
    },
    "tags": []
   },
   "source": [
    "## Weitere Themen\n",
    "\n",
    "GPU-Training: So nutzen Sie Ihre GPU: https://pytorch.org/tutorials/beginner/blitz/cifar10_tutorial.html#training-on-gpu"
   ]
  }
 ],
 "metadata": {
  "kernelspec": {
   "display_name": "Python 3 (ipykernel)",
   "language": "python",
   "name": "python3"
  },
  "language_info": {
   "codemirror_mode": {
    "name": "ipython",
    "version": 3
   },
   "file_extension": ".py",
   "mimetype": "text/x-python",
   "name": "python",
   "nbconvert_exporter": "python",
   "pygments_lexer": "ipython3",
   "version": "3.10.6"
  },
  "vscode": {
   "interpreter": {
    "hash": "d4d1e4263499bec80672ea0156c357c1ee493ec2b1c70f0acce89fc37c4a6abe"
   }
  }
 },
 "nbformat": 4,
 "nbformat_minor": 5
}
